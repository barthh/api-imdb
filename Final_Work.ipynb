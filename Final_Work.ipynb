{
 "cells": [
  {
   "cell_type": "markdown",
   "id": "e6f87188",
   "metadata": {},
   "source": [
    "# Final Work\n",
    "\n",
    "To sum up all the knowledge learnt in this course, i want you to create a package in order to easily work with an API, following all the best practices seen.\n",
    "\n",
    "If you have any questions, do not hesitate to contact me.\n",
    "\n",
    "\n",
    "## Context\n",
    "\n",
    "You want to build a service that will be easily be pluggable to a message app, an email app, or other in order to integrate Movie reviews. (like Giphy, but for Movies)\n",
    "\n",
    "You're on the road to create yout first MVP, but as you only want (for the moment) to spend time on the service, you decide to delegate the movies information for the moment.\n",
    "\n",
    "You find the following API that could satisfy your needs for movies information:\n",
    "\n",
    "https://imdb-api.com/API\n",
    "\n",
    "You're now ready to start your business !\n",
    "\n",
    "## Roadmap\n",
    "\n",
    "You should be able, through you app, to search a movie by name and get its review !\n",
    "\n",
    "What are the keys for easily reach you objective ?\n",
    "- What data should i want for my final Python object ? (and so for the final user)\n",
    "- What level of data the api provide ?\n",
    "- How my package should work ? (definition, parameters, call, ...)\n",
    "\n",
    "## Expectations\n",
    "\n",
    "Using the knowledge and the best practices seen in this course, i want you to create a movie package that will be used to generate Movie(s) as a Python Object.\n",
    "\n",
    "The rating will consider :\n",
    "- The quality of the code (Pep8 conventions)\n",
    "- The global modules and packages structure\n",
    "- The correct behavior of your code\n",
    "- The correct usage of a versionning system (git for example on github or gitlab)\n",
    "\n",
    "If you feel comfy with the previous points, you can also try to :\n",
    "- Implement a UI for your package\n",
    "- Writing tests to your current package (using pytest for example)\n",
    "https://docs.pytest.org/en/6.2.x/\n",
    "- Create a private package for your project (usable with pip for example)\n",
    "- Use CI/CD tools like github actions\n",
    "\n",
    "\n",
    "## Deliverable\n",
    "\n",
    "You will send me link to the repositorie of your project (host on github, gitlab, ...) with a detailed README in order show me how to install and launch your application.\n",
    "\n",
    "Your application could just be a \"main.py\"\n",
    "\n",
    "I will also value :\n",
    "- A small video teaser for your project\n",
    "- A recorderd demo\n",
    "- A recorded ppt presentation (like i was a investor for your app)\n",
    "- Anything that will present your work from a business point of view instead of a technical one.\n",
    "\n",
    "## Submission\n",
    "\n",
    "As discuss with you, you'll have 2 weeks to submit your job from the last Practical course :\n",
    "\n",
    "- DE : Before sunday 13/11 at 23h59\n",
    "- DS1 & DS2 : Before sunday 04/12 at 23h59\n",
    "\n",
    "I expecte a link to your private (or not) repository, if it's private, do not forget to add me as reviewer\n",
    "\n",
    "\n",
    "## Tips\n",
    "\n",
    "As you will be limited by the number of request you can make on the api, save a dump of a response in order to use it \"offline\" as seen in the first Notebook.\n",
    "\n",
    "Do not store your key directly in your code, use .env variable instead\n",
    "\n",
    "## Other ressources\n",
    "\n",
    "Here is a collection of usefull link for python programmer :\n",
    "\n",
    "https://docs.python-guide.org/\n",
    "\n",
    "https://www.python.org/dev/peps/pep-0020/\n",
    "\n",
    "https://pep8.org/"
   ]
  },
  {
   "cell_type": "code",
   "execution_count": 138,
   "id": "a4d69e18",
   "metadata": {},
   "outputs": [],
   "source": [
    "import os\n",
    "from dotenv import load_dotenv\n",
    "\n",
    "load_dotenv()\n",
    "\n",
    "API_token = os.environ[\"API_token\"]\n"
   ]
  },
  {
   "cell_type": "code",
   "execution_count": 139,
   "id": "95685c86",
   "metadata": {},
   "outputs": [],
   "source": [
    "class Response:\n",
    "    \n",
    "    def __init__(self, status_code, content):\n",
    "        self.status_code = status_code\n",
    "        self.content = content"
   ]
  },
  {
   "cell_type": "code",
   "execution_count": 140,
   "id": "ec369cd7",
   "metadata": {},
   "outputs": [],
   "source": [
    "import requests\n",
    "#from package.response import Response"
   ]
  },
  {
   "cell_type": "code",
   "execution_count": 141,
   "id": "34cb5b76",
   "metadata": {},
   "outputs": [],
   "source": [
    "class IMDBRequest:\n",
    "    token = API_token\n",
    "    _base_url = \"https://imdb-api.com/en/API/\"\n",
    "    headers = {\"Authorization\": f\"token {token}\"}\n",
    "\n",
    "\n",
    "    @classmethod\n",
    "    def search_movie_rating(cls,movie:str):\n",
    "        movie_id = IMDBRequest.search_movie_id(movie).content\n",
    "\n",
    "        response =  requests.get(cls._base_url+ \"Ratings/\"+cls.token+\"/\"+movie_id)\n",
    "        return Response(status_code=response.status_code, content=response.json())\n",
    "        \n",
    "    @classmethod\n",
    "    def search_movie_id(cls,movie:str):\n",
    "        response =  requests.get(cls._base_url+ \"SearchMovie/\"+cls.token+\"/\"+movie)\n",
    "\n",
    "        return Response(status_code=response.status_code, content = response.json()['results'][0][\"id\"])"
   ]
  },
  {
   "cell_type": "code",
   "execution_count": 142,
   "id": "5157c87f",
   "metadata": {},
   "outputs": [
    {
     "data": {
      "text/plain": [
       "'tt0110413'"
      ]
     },
     "execution_count": 142,
     "metadata": {},
     "output_type": "execute_result"
    }
   ],
   "source": [
    "IMDBRequest.search_movie_id(\"leon the professional\").content"
   ]
  },
  {
   "cell_type": "code",
   "execution_count": 154,
   "id": "3e0d2dc3",
   "metadata": {},
   "outputs": [],
   "source": [
    "test = IMDBRequest.search_movie_rating(\"leon the professional\").content"
   ]
  },
  {
   "cell_type": "code",
   "execution_count": 160,
   "id": "e9820be5",
   "metadata": {},
   "outputs": [
    {
     "data": {
      "text/plain": [
       "{'imDbId': 'tt0110413',\n",
       " 'title': 'Léon: The Professional',\n",
       " 'fullTitle': 'Léon: The Professional (1994)',\n",
       " 'type': 'Movie',\n",
       " 'year': '1994',\n",
       " 'imDb': '8.5',\n",
       " 'metacritic': '64',\n",
       " 'theMovieDb': '8.3',\n",
       " 'rottenTomatoes': '73',\n",
       " 'filmAffinity': '7.6',\n",
       " 'errorMessage': ''}"
      ]
     },
     "execution_count": 160,
     "metadata": {},
     "output_type": "execute_result"
    }
   ],
   "source": [
    "test"
   ]
  },
  {
   "cell_type": "code",
   "execution_count": 156,
   "id": "7c4674f2",
   "metadata": {},
   "outputs": [
    {
     "data": {
      "text/plain": [
       "'Léon: The Professional (1994)'"
      ]
     },
     "execution_count": 156,
     "metadata": {},
     "output_type": "execute_result"
    }
   ],
   "source": [
    "test[\"fullTitle\"]"
   ]
  },
  {
   "cell_type": "code",
   "execution_count": 145,
   "id": "b0e47cf6",
   "metadata": {},
   "outputs": [],
   "source": [
    "class VersioningEvent:\n",
    "\n",
    "    def __init__(self, fullTitle, imdb_score):\n",
    "        self.fullTitle = fullTitle\n",
    "        self.imdb_score = imdb_score"
   ]
  },
  {
   "cell_type": "code",
   "execution_count": 167,
   "id": "80698c51",
   "metadata": {},
   "outputs": [],
   "source": [
    "class VersioningEventFacade:\n",
    "\n",
    "    @staticmethod\n",
    "    def get_movie_ratings(movie:str) -> [VersioningEvent]:\n",
    "        events = IMDBRequest.search_movie_rating(movie).content\n",
    "        \n",
    "        versioning_events = []\n",
    "\n",
    "        for event in events: \n",
    "            print(event)\n",
    "            versioning_event = VersioningEvent(\n",
    "                fullTitle = event[\"fullTitle\"],\n",
    "                imdb_score = event[\"imDb\"])\n",
    "            versioning_events.append(versioning_event)\n",
    "\n",
    "\n",
    "\n",
    "        return versioning_events"
   ]
  },
  {
   "cell_type": "code",
   "execution_count": 168,
   "id": "218ea540",
   "metadata": {},
   "outputs": [
    {
     "name": "stdout",
     "output_type": "stream",
     "text": [
      "imDbId\n"
     ]
    },
    {
     "ename": "TypeError",
     "evalue": "string indices must be integers",
     "output_type": "error",
     "traceback": [
      "\u001b[0;31m---------------------------------------------------------------------------\u001b[0m",
      "\u001b[0;31mTypeError\u001b[0m                                 Traceback (most recent call last)",
      "Cell \u001b[0;32mIn [168], line 1\u001b[0m\n\u001b[0;32m----> 1\u001b[0m VersioningEventFacade\u001b[39m.\u001b[39;49mget_movie_ratings(\u001b[39m\"\u001b[39;49m\u001b[39mleon the professional\u001b[39;49m\u001b[39m\"\u001b[39;49m)\n",
      "Cell \u001b[0;32mIn [167], line 12\u001b[0m, in \u001b[0;36mVersioningEventFacade.get_movie_ratings\u001b[0;34m(movie)\u001b[0m\n\u001b[1;32m      9\u001b[0m \u001b[39mfor\u001b[39;00m event \u001b[39min\u001b[39;00m events: \n\u001b[1;32m     10\u001b[0m     \u001b[39mprint\u001b[39m(event)\n\u001b[1;32m     11\u001b[0m     versioning_event \u001b[39m=\u001b[39m VersioningEvent(\n\u001b[0;32m---> 12\u001b[0m         fullTitle \u001b[39m=\u001b[39m event[\u001b[39m\"\u001b[39;49m\u001b[39mfullTitle\u001b[39;49m\u001b[39m\"\u001b[39;49m],\n\u001b[1;32m     13\u001b[0m         imdb_score \u001b[39m=\u001b[39m event[\u001b[39m\"\u001b[39m\u001b[39mimDb\u001b[39m\u001b[39m\"\u001b[39m])\n\u001b[1;32m     14\u001b[0m     versioning_events\u001b[39m.\u001b[39mappend(versioning_event)\n\u001b[1;32m     18\u001b[0m \u001b[39mreturn\u001b[39;00m versioning_events\n",
      "\u001b[0;31mTypeError\u001b[0m: string indices must be integers"
     ]
    }
   ],
   "source": [
    "VersioningEventFacade.get_movie_ratings(\"leon the professional\")"
   ]
  },
  {
   "cell_type": "markdown",
   "id": "78a66b1b",
   "metadata": {},
   "source": [
    "UI avec 20 recherches si utilisateur perdu  \n",
    "Dump dans une database les requêtes\n",
    "\n",
    "fonction pour encapsuler get request"
   ]
  }
 ],
 "metadata": {
  "kernelspec": {
   "display_name": "Python 3.10.6 64-bit",
   "language": "python",
   "name": "python3"
  },
  "language_info": {
   "codemirror_mode": {
    "name": "ipython",
    "version": 3
   },
   "file_extension": ".py",
   "mimetype": "text/x-python",
   "name": "python",
   "nbconvert_exporter": "python",
   "pygments_lexer": "ipython3",
   "version": "3.10.6"
  },
  "vscode": {
   "interpreter": {
    "hash": "916dbcbb3f70747c44a77c7bcd40155683ae19c65e1c03b4aa3499c5328201f1"
   }
  }
 },
 "nbformat": 4,
 "nbformat_minor": 5
}
